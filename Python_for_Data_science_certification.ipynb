{
  "nbformat": 4,
  "nbformat_minor": 0,
  "metadata": {
    "colab": {
      "name": "Python for Data science certification.ipynb",
      "provenance": [],
      "collapsed_sections": [],
      "authorship_tag": "ABX9TyODIJDaQvRH+uILYHpOrPox",
      "include_colab_link": true
    },
    "kernelspec": {
      "name": "python3",
      "display_name": "Python 3"
    }
  },
  "cells": [
    {
      "cell_type": "markdown",
      "metadata": {
        "id": "view-in-github",
        "colab_type": "text"
      },
      "source": [
        "<a href=\"https://colab.research.google.com/github/Diptyregar456/Certifications/blob/main/Python_for_Data_science_certification.ipynb\" target=\"_parent\"><img src=\"https://colab.research.google.com/assets/colab-badge.svg\" alt=\"Open In Colab\"/></a>"
      ]
    },
    {
      "cell_type": "code",
      "metadata": {
        "colab": {
          "base_uri": "https://localhost:8080/"
        },
        "id": "xsXsPE-QZCtk",
        "outputId": "81e92409-5da1-403e-907c-237703dbc81f"
      },
      "source": [
        "#Simple hello program   #python simple hello\n",
        "print(\"hello world\")\n",
        "\n",
        "#C program \n",
        "#variable uska data type or usme\n",
        "\n",
        "print(\"hello dipty\")\n",
        "print('hello love')"
      ],
      "execution_count": null,
      "outputs": [
        {
          "output_type": "stream",
          "text": [
            "hello world\n",
            "hello dipty\n",
            "hello love\n"
          ],
          "name": "stdout"
        }
      ]
    },
    {
      "cell_type": "markdown",
      "metadata": {
        "id": "-fTeidolgPd7"
      },
      "source": [
        "**hhfgf**"
      ]
    },
    {
      "cell_type": "code",
      "metadata": {
        "id": "gVwDbIZ9qahn"
      },
      "source": [
        ""
      ],
      "execution_count": null,
      "outputs": []
    },
    {
      "cell_type": "code",
      "metadata": {
        "colab": {
          "base_uri": "https://localhost:8080/"
        },
        "id": "-pb4QyURaDqh",
        "outputId": "29df4d20-8870-4f92-e805-b6cc8e2a4111"
      },
      "source": [
        "#swap 2 numbers in python\n",
        "a =2\n",
        "b=3\n",
        "a,b = b,a\n",
        "print(a,b)\n",
        "a,b,c=2,3,4\n",
        "a,b,c=b,c,a\n",
        "print(a,b,c)\n",
        "a,b=3,4\n",
        "a,b=b,a\n",
        "print(a,b)\n",
        "\n",
        "#void main{\n",
        "   # int a,b\n",
        "    #a=2\n",
        "    #b=3"
      ],
      "execution_count": null,
      "outputs": [
        {
          "output_type": "stream",
          "text": [
            "3 2\n",
            "3 4 2\n",
            "4 3\n"
          ],
          "name": "stdout"
        }
      ]
    },
    {
      "cell_type": "code",
      "metadata": {
        "colab": {
          "base_uri": "https://localhost:8080/"
        },
        "id": "Uu8qxF3jafbZ",
        "outputId": "0ac0065e-5a75-4437-bab0-10dabfcb9127"
      },
      "source": [
        "#count how many times python has come (count of python)\n",
        "myvariable = ''' there was a time when python wasnot so much popoular, but now python comes amongs in top 3 and python becomes gloabl language and\n",
        "                  python baes on open source. you can write the code in python,change in python and modify in python.'''\n",
        "print(myvariable.count(\"python\"))"
      ],
      "execution_count": null,
      "outputs": [
        {
          "output_type": "stream",
          "text": [
            "7\n"
          ],
          "name": "stdout"
        }
      ]
    },
    {
      "cell_type": "code",
      "metadata": {
        "colab": {
          "base_uri": "https://localhost:8080/"
        },
        "id": "8Pz5CdOvbeyd",
        "outputId": "fa73e6cf-8df2-4e76-bcd1-3405c3289d24"
      },
      "source": [
        "#identifires and RESERVED KEYWORDS.\n",
        "\"\"\"WHAT IS IDENTIFIRES:- A PYTHON IDENTIFIRES IS A NAME USED TO IDENTIFY LIKE VARIABLES, NAME, CLASS, FUNCTION, OBJECT THIS ARE THE IDENTIFIRES \n",
        "THAT WE USE IN PYTHON.\"\"\"\n",
        "#RULE NUMBERS1:- \n",
        "#EMPLOYEENAME \n",
        "#employeename\n",
        "#employee_name\n",
        "#employe1name\n",
        "#employeename1\n",
        "\n",
        "#RULE 2:- case sensitive\n",
        "Student = \"lili\"\n",
        "student = \"dodo\"\n",
        "print(Student)\n",
        "print(student)\n",
        "\n",
        "#RULE 3:- INVALID SYNTAX(identifires)\n",
        "#employee$\n",
        "#employee@\n",
        "#empployee%\n",
        "\n",
        "#RULE 4 :- IT CANT START WITH DIGITS - INVALID SYNTAX\n",
        "#1EMPLOYEE2\n",
        "\n",
        "#RULE 5 :- RESERVED WORDS CANT USE AS IDENTIFIRES.\n",
        "# if =\"\"\n",
        "#while = \"\"\n",
        "\n",
        "\n",
        "\"\"\" what are the RESERVED KEYWORDS\n",
        "RESERVED KEYWORDS :- IN PYTHON SOME WORDS ARE RESERVED TO REPRESENT SOME MEANINKGS OR FUNCTIONAILITY. SUCH TYPE OF WORDS ARE CALLED RESERVED WORDS\"\"\"\n",
        "\"\"\"RULES- 1 ALL THE PYTHON KEYWORDS MUST BE IN LOWERCASE LETTERS ONLY.\n",
        "2 IT CANT USE A CONSTANT AND VARIABLE OR ANY OTHER IDENTIFIRES.\"\"\"\n",
        "\n",
        "#RESERVED KEYWORDS IN LOWERCASE\n",
        "import keyword\n",
        "print(keyword.kwlist) # checking a keyword list here.\n",
        "print(len(keyword.kwlist)) #total keyword"
      ],
      "execution_count": null,
      "outputs": [
        {
          "output_type": "stream",
          "text": [
            "lili\n",
            "dodo\n",
            "['False', 'None', 'True', 'and', 'as', 'assert', 'break', 'class', 'continue', 'def', 'del', 'elif', 'else', 'except', 'finally', 'for', 'from', 'global', 'if', 'import', 'in', 'is', 'lambda', 'nonlocal', 'not', 'or', 'pass', 'raise', 'return', 'try', 'while', 'with', 'yield']\n",
            "33\n"
          ],
          "name": "stdout"
        }
      ]
    },
    {
      "cell_type": "code",
      "metadata": {
        "colab": {
          "base_uri": "https://localhost:8080/"
        },
        "id": "8NwEP6RPNhpf",
        "outputId": "d5b55fb9-db76-443c-b650-a214739883d4"
      },
      "source": [
        "#variables:- this are the containers which stores the data values this follows the same rules which are followed by indentifires.uppercase,lowercase,digits(0to9),doesnot follow specifires.\n",
        "#multiple variable multiple values\n",
        "a,b,c,d = 1,2,2,4\n",
        "print(a,b,c,d)\n",
        "#multiple variable single values\n",
        "a=b=c=d = 1\n",
        "print(a,b,c,d)\n",
        "#single variable multiple values\n",
        "a=1,2,3,4\n",
        "print(a)\n",
        "\n",
        "#datatypes:-\n",
        "\n",
        "#numeric type :- int,float,complex,text type = string,sequence type:-list,set,tuple,mapping type:-dictionary'''"
      ],
      "execution_count": null,
      "outputs": [
        {
          "output_type": "stream",
          "text": [
            "1 2 2 4\n",
            "1 1 1 1\n",
            "(1, 2, 3, 4)\n"
          ],
          "name": "stdout"
        }
      ]
    },
    {
      "cell_type": "code",
      "metadata": {
        "colab": {
          "base_uri": "https://localhost:8080/"
        },
        "id": "D7IqBkGwUwPC",
        "outputId": "0411ae3c-e17e-43cf-9820-3abf5d3e11a6"
      },
      "source": [
        "#control statement,(Decision statement):=>\n",
        "#if\n",
        "#if,else\n",
        "#if elif else\n",
        "#Nestedif\n",
        "\n",
        "#control statement are statement which executed in order in a reapetadly way. conditions are true or not yes or no.\n",
        "#IF CONDITION:-\n",
        "#user_age = 20\n",
        "if(user_age<=18):\n",
        "  print(\"user is above 18 or younger\")\n",
        "print(\"user is above 18\")\n",
        "user_age = 20\n",
        "\n",
        "#IF ELSE CONDITION:- IF CONDITION IS TRUE THEN IT WILL EXCUTE THE STATEMENT AND IF ITS NOT THEN IT WILL EXCUTE THE ELSE CONDITION.\n",
        "user_age = 16\n",
        "if (user_age <= 18):\n",
        "  print(\"user is 18 or younger\")\n",
        "else:\n",
        "  print(\"user is above 18\")\n",
        "\n",
        "\n",
        "num=10\n",
        "if num>0:\n",
        "  print(\"positive number\")\n",
        "else:\n",
        "  print(\"negative number\")\n",
        "\n",
        "#if elif else condition:-\n",
        "#only one else\n",
        "#multiple elif\n",
        "\n",
        "num = -1\n",
        "if num>0:\n",
        "  print(\"positive number\")\n",
        "elif num==0:\n",
        "  print(\"number is zero\")\n",
        "else:\n",
        "  print(\"number is negative\")\n",
        "\n",
        "\n",
        "month_num = 4\n",
        "if(month_num==1):\n",
        "  print(\"j_m\")\n",
        "elif(month_num==2):\n",
        "  print(\"f_m\")\n",
        "elif(month_num==3):\n",
        "  print(\"m_m\")\n",
        "elif(month_num==4):\n",
        "  print(\"a_m\")\n",
        "elif(month_num==5):\n",
        "  print(\"may_m\")\n",
        "elif(month_num==6):\n",
        "  print(\"jun_m\")\n",
        "elif(month_num==7):\n",
        "  print(\"july_m\")\n",
        "elif(month_num==8):\n",
        "  print(\"aug_m\")\n",
        "elif(month_num==9):\n",
        "  print(\"sep_m\")\n",
        "elif(month_num==10):\n",
        "  print(\"oct_num\")\n",
        "elif(month_num==11):\n",
        "  print(\"nov_m\")\n",
        "elif(month_num==12):\n",
        "  print(\"dec_m\")\n",
        "else:\n",
        "  print(\"number is invalid\")\n",
        "\n",
        "#Nested if statement:-\n",
        "'''there may be a situation when you want to check for the another condition resolves to true. in such a situation you can use nested condition.'''\n",
        "num=20\n",
        "if num>=0:\n",
        "  if num==0:\n",
        "    print('zero')\n",
        "  else:\n",
        "    print(\"positive number\")\n",
        "else:\n",
        "  print(\"negative number\")\n",
        "\n"
      ],
      "execution_count": null,
      "outputs": [
        {
          "output_type": "stream",
          "text": [
            "user is above 18 or younger\n",
            "user is above 18\n",
            "user is 18 or younger\n",
            "positive number\n",
            "number is negative\n",
            "a_m\n",
            "positive number\n"
          ],
          "name": "stdout"
        }
      ]
    },
    {
      "cell_type": "code",
      "metadata": {
        "colab": {
          "base_uri": "https://localhost:8080/"
        },
        "id": "L_UPUlYsgRlm",
        "outputId": "3fdcbe2e-c592-4bd1-b878-580468da1f68"
      },
      "source": [
        "#LOOP (WHILE AND FOR)\n",
        "\"\"\"A loop Staement allows us to execute a satement  or group of statement multiple times.\n",
        "there is one major difference in between the condition statement execute orderly and a loop statement execute multiple times\n",
        "while\n",
        "for\n",
        "While loop:- the while loop in python used to iterate over a block of code as long as the test experession condition is true if its not true then it will come out\n",
        "of the loop.\"\"\"\n",
        "#jab tak condition true nai hoti tab tak excute hota hai.\n",
        "\n",
        "#syntax\n",
        "#while expression:\n",
        "#body of while\n",
        "\n",
        "#sample:-\n",
        "#program to print numbers in ascending order till the mentioned limit.\n",
        "i=1\n",
        "while i<=7:\n",
        "  print(i)\n",
        "  i=i+1\n",
        "print(\"execution completed\")\n",
        "\n",
        "#else in while loop print ascending order till mentioned in limit.\n",
        "i=1\n",
        "while i<=6:\n",
        "  print(i)\n",
        "  i=i+1\n",
        "else:\n",
        "  print(\"else statement is excuted at end as mandatory\")\n",
        "print(\"execution completed\")\n",
        "\n",
        "#infinite loop if we dont put i=i+1 it will execute continously.\n",
        "\n",
        "#FOR LOOP STATEMENTS\n",
        "#FOR LOOP:- THE FOR LOOP IN PYTHON IS USED TO ITERATE OUT A SEQUENCE (LIST,TUPLE,STRING)OR OTHER ITERATE OBJECTS. \n",
        "#ITERAING OVER A SEQUENCE IS CALLED TRANSVERSAL.\n",
        "\n",
        "#syntax of for loop\n",
        "#FOR ITERATING_VAR IN SEQUANCE:\n",
        "#STATEMENTS\n",
        "\n",
        "#PROGRAM TO POINT THE FRUITS AVAILABLE INSIDE THE LIST:\n",
        "FRUITS = [\"APPLE\",\"BANANA\",\"CHERRY\",\"MANGO\",\"PINEAPPLE\",\"JACKFRUIT\"]\n",
        "for i in FRUITS:\n",
        "  print(i)\n",
        "\n",
        "numbers = [1,2,3,4,5,6]\n",
        "for x in numbers:\n",
        "  print(x)\n",
        "\n",
        "#program to find the sum of all numbers stored in a list\n",
        "numbers=[1,2,3,4,5,6]\n",
        "sum=0\n",
        "for val in numbers:\n",
        "  sum = sum + val\n",
        "  print(\"the sum of the values\")\n",
        "\n",
        "#using else statement with loops\n",
        "#if the else statement is used with a for loop the else statement is executed when the loops has exhausted itering the list.\n",
        "numbers=[1,2,3,4,5]\n",
        "for i in numbers:\n",
        "  print(i)\n",
        "else:\n",
        "  print(\"no items left\")\n",
        "\n",
        "#looping through a string\n",
        "for x in \"python\":\n",
        "  print(x)\n",
        "\n",
        "#RANGE() FUNCTION:\n",
        "#PROGRAM TO GENERATE 10 NUMBERS STARING FROM 0 TO 9 USING RANGE FUNCTION\n",
        "print(range(10))\n",
        "\n",
        "for x in range(10):\n",
        "  print(x)\n",
        "\n",
        "#programes to display the numbers between 2 values using range function.\n",
        "for x in range(2,6):\n",
        "  print(x)\n",
        "\n",
        "#programme to display the numbers  between 2 values using step size:\n",
        "for x in range(1,30,2):\n",
        "  print(x)\n",
        "\n",
        "#nested for loop\n",
        "for x in range(1,4):\n",
        "  for y in range(1,4):\n",
        "    print(x,y)"
      ],
      "execution_count": null,
      "outputs": [
        {
          "output_type": "stream",
          "text": [
            "1\n",
            "2\n",
            "3\n",
            "4\n",
            "5\n",
            "6\n",
            "7\n",
            "execution completed\n",
            "1\n",
            "2\n",
            "3\n",
            "4\n",
            "5\n",
            "6\n",
            "else statement is excuted at end as mandatory\n",
            "execution completed\n",
            "APPLE\n",
            "BANANA\n",
            "CHERRY\n",
            "MANGO\n",
            "PINEAPPLE\n",
            "JACKFRUIT\n",
            "1\n",
            "2\n",
            "3\n",
            "4\n",
            "5\n",
            "6\n",
            "the sum of the values\n",
            "the sum of the values\n",
            "the sum of the values\n",
            "the sum of the values\n",
            "the sum of the values\n",
            "the sum of the values\n",
            "1\n",
            "2\n",
            "3\n",
            "4\n",
            "5\n",
            "no items left\n",
            "p\n",
            "y\n",
            "t\n",
            "h\n",
            "o\n",
            "n\n",
            "range(0, 10)\n",
            "0\n",
            "1\n",
            "2\n",
            "3\n",
            "4\n",
            "5\n",
            "6\n",
            "7\n",
            "8\n",
            "9\n",
            "2\n",
            "3\n",
            "4\n",
            "5\n",
            "1\n",
            "3\n",
            "5\n",
            "7\n",
            "9\n",
            "11\n",
            "13\n",
            "15\n",
            "17\n",
            "19\n",
            "21\n",
            "23\n",
            "25\n",
            "27\n",
            "29\n",
            "1 1\n",
            "1 2\n",
            "1 3\n",
            "2 1\n",
            "2 2\n",
            "2 3\n",
            "3 1\n",
            "3 2\n",
            "3 3\n"
          ],
          "name": "stdout"
        }
      ]
    },
    {
      "cell_type": "code",
      "metadata": {
        "colab": {
          "base_uri": "https://localhost:8080/"
        },
        "id": "Tp_t1j1oxhzL",
        "outputId": "cb3f0214-6714-47c1-f77a-1b869051f000"
      },
      "source": [
        "#BREAK AND CONTINUE STATEMENT:-\n",
        "#BREAK STATEMENT:- WE WILL USE IN FOR LOOP AND WHILE LOOP. IT WILL EXECUTE THE CONDITON AND THEN AFTER PARTICULAER NUMBER IT WILL BREAK THE LOOP AND EXIT THE LOOP\n",
        "#SAMPLE FOR BREAK:\n",
        "#WHILE lOOP:\n",
        "\n",
        "#PROGRAM TO PRINT NUMBERS IN ASCENDING ORDER TILL THE MENTIONED LIMIT.\n",
        "i=1\n",
        "while i in range(10):\n",
        "  print(i)\n",
        "  i=i+1\n",
        "  if i == 7:\n",
        "    break\n",
        "\n",
        "i=1\n",
        "while i<10:\n",
        "  print(i)\n",
        "  i=i+1\n",
        "  if i==8:\n",
        "    break\n",
        "\n",
        "#PROGRAM TO PRINT IN ASCENDING ORDER:\n",
        "i=1\n",
        "while i in range(1,10):\n",
        "  print(i)\n",
        "  i=i+1\n",
        "  if i==8:\n",
        "    break\n",
        "\n",
        "\n",
        "#PROGRAM TO PRINT THE FRUITS AVAILABLE INDIE THE LIST(FOR LOOP)\n",
        "fruits=[\"lili\",\"cherry\",\"berry\",\"lichi\"]\n",
        "for i in fruits:\n",
        "  print(i)\n",
        "  if i == \"berry\":\n",
        "    break\n",
        "\n",
        "#PROGRAM TO PRINT AVAILABLE INSIDE THE LIST\n",
        "num=(1,2,3,4)\n",
        "for x in num:\n",
        "  print(i)\n",
        "  if x==3:\n",
        "    break\n",
        "\n",
        "#NESTED LOOP:- IN THIS IF PUT A BREAK STATEMENT HERE THEN IT WILL BREAK THE INSIDE LOOP THE OUTER LOOP GOING TO EXECUTE CONTIONUSLY.\n",
        "for x in range(1,4):\n",
        "  for y in range(1,4):\n",
        "    print(x,y)\n",
        "    if x==2 and y==2:\n",
        "      break"
      ],
      "execution_count": null,
      "outputs": [
        {
          "output_type": "stream",
          "text": [
            "1\n",
            "2\n",
            "3\n",
            "4\n",
            "5\n",
            "6\n",
            "1\n",
            "2\n",
            "3\n",
            "4\n",
            "5\n",
            "6\n",
            "7\n",
            "1\n",
            "2\n",
            "3\n",
            "4\n",
            "5\n",
            "6\n",
            "7\n",
            "lili\n",
            "cherry\n",
            "berry\n",
            "berry\n",
            "berry\n",
            "berry\n",
            "1 1\n",
            "1 2\n",
            "1 3\n",
            "2 1\n",
            "2 2\n",
            "3 1\n",
            "3 2\n",
            "3 3\n"
          ],
          "name": "stdout"
        }
      ]
    },
    {
      "cell_type": "code",
      "metadata": {
        "id": "flPZFNdQ4joV"
      },
      "source": [
        "i=0\n",
        "while i<10:\n",
        "  i=i+1\n",
        "  if 1==5:\n",
        "    continue\n",
        "    print(i)\n",
        "\n",
        "numbers=(1,2,3,4,5,9,20,23,36) #print even number in list.\n",
        "for num in numbers:\n",
        "  if num%2!=0:\n",
        "    continue\n",
        "    print(num)"
      ],
      "execution_count": null,
      "outputs": []
    },
    {
      "cell_type": "markdown",
      "metadata": {
        "id": "XFT0I1Gw4n7w"
      },
      "source": [
        "\n",
        "\n",
        "> Indented block\n",
        "\n",
        "---\n",
        "\n",
        "*   List item\n",
        "\n",
        "1.   List item\n",
        "\n",
        "# [> Indented blo](`***https://***`)ck\n",
        "\n",
        "\n",
        "2.   List item\n",
        "\n",
        "\n",
        "*   List item\n",
        "\n",
        "\n",
        "\n",
        "\n",
        "\n"
      ]
    },
    {
      "cell_type": "code",
      "metadata": {
        "id": "iMaY-Y1r2QHz"
      },
      "source": [
        "#CONTINUE STATEMENT:- IT WILL SKIP THE PARTICULAR ITERATE AND THEN WILL PRIINT CONTINUE OR IF WE WANT EVEN THEN IT WILL SATIFY THE CONDITION.\n",
        "#PROGRAME TO PRINT NUMBER IN ASCENDING ORDER.\n",
        "i=0\n",
        "while i<10:\n",
        "  i=i+1\n",
        "  if 1==5:\n",
        "    continue\n",
        "    print(i)\n",
        "\n",
        "numbers=(1,2,3,4,5,9,20,23,36) #print even number in list.\n",
        "for num in numbers:\n",
        "  if num%2!=0:\n",
        "    continue\n",
        "    print(num)"
      ],
      "execution_count": null,
      "outputs": []
    }
  ]
}