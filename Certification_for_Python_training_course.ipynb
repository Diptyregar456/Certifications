{
  "nbformat": 4,
  "nbformat_minor": 0,
  "metadata": {
    "colab": {
      "name": "Certification for Python training course.ipynb",
      "provenance": [],
      "collapsed_sections": [],
      "authorship_tag": "ABX9TyPv6ytM/MJ/QEn57ZuYBFyX",
      "include_colab_link": true
    },
    "kernelspec": {
      "name": "python3",
      "display_name": "Python 3"
    },
    "language_info": {
      "name": "python"
    }
  },
  "cells": [
    {
      "cell_type": "markdown",
      "metadata": {
        "id": "view-in-github",
        "colab_type": "text"
      },
      "source": [
        "<a href=\"https://colab.research.google.com/github/Diptyregar456/Certifications/blob/main/Certification_for_Python_training_course.ipynb\" target=\"_parent\"><img src=\"https://colab.research.google.com/assets/colab-badge.svg\" alt=\"Open In Colab\"/></a>"
      ]
    },
    {
      "cell_type": "markdown",
      "metadata": {
        "id": "0NQf65oNqnDB"
      },
      "source": [
        "**Getting started with python**"
      ]
    },
    {
      "cell_type": "code",
      "metadata": {
        "id": "wlJU6doMqr7V"
      },
      "source": [
        "#Before starting the python"
      ],
      "execution_count": null,
      "outputs": []
    },
    {
      "cell_type": "code",
      "metadata": {
        "id": "6sGVeWnpst8F",
        "colab": {
          "base_uri": "https://localhost:8080/",
          "height": 35
        },
        "outputId": "b445b0cb-047b-4ab0-e493-33cb630643dc"
      },
      "source": [
        "##Introduction to Python\n",
        "#1 what is python\n",
        "#2 History of python\n",
        "#3 Features of python\n",
        "#4 Components of python\n",
        "#5 Frameworks of python\n",
        "#6 Flavours of python\n",
        "#7 why Python\n",
        "\n",
        "#1 what is python?\n",
        "''' Python is interpreted \n",
        "programing language build by''' "
      ],
      "execution_count": null,
      "outputs": [
        {
          "output_type": "execute_result",
          "data": {
            "application/vnd.google.colaboratory.intrinsic+json": {
              "type": "string"
            },
            "text/plain": [
              "' Python is interpreted \\nprograming language build by'"
            ]
          },
          "metadata": {
            "tags": []
          },
          "execution_count": 7
        }
      ]
    },
    {
      "cell_type": "code",
      "metadata": {
        "colab": {
          "base_uri": "https://localhost:8080/",
          "height": 35
        },
        "id": "Ma6On3nv3pS2",
        "outputId": "a271ccfe-a574-45f1-b207-8a8bf23703ed"
      },
      "source": [
        "#what is python?\n",
        "''' Python is interpreted high-level programing language for general purpose programing'''"
      ],
      "execution_count": null,
      "outputs": [
        {
          "output_type": "execute_result",
          "data": {
            "application/vnd.google.colaboratory.intrinsic+json": {
              "type": "string"
            },
            "text/plain": [
              "' Python is interpreted high-level programing language for general purpose programing'"
            ]
          },
          "metadata": {
            "tags": []
          },
          "execution_count": 8
        }
      ]
    },
    {
      "cell_type": "code",
      "metadata": {
        "colab": {
          "base_uri": "https://localhost:8080/",
          "height": 52
        },
        "id": "jE1pCKQS33Yk",
        "outputId": "35c2d29f-6bc1-4bfc-9bda-dd5954cce084"
      },
      "source": [
        "#what does interpreted means?\n",
        "'''easy\n",
        "platform independent\n",
        "execute code line by line\n",
        "Read, Evalute, print, loop\n",
        "follows REPL philosophy\n",
        "Dynamic typing\n",
        "easier to debugging\n",
        "No need to recompile again and again on small section\n",
        "Adding to change function at runtime'''"
      ],
      "execution_count": null,
      "outputs": [
        {
          "output_type": "execute_result",
          "data": {
            "application/vnd.google.colaboratory.intrinsic+json": {
              "type": "string"
            },
            "text/plain": [
              "'easy\\nplatform independent\\nexecute code line by line\\nRead, Evalute, print\\nfollows REP philosophy\\nDynamic typing\\neasier to debugging\\nNo need to recompile again and again on small section\\nAdding to change function at runtime'"
            ]
          },
          "metadata": {
            "tags": []
          },
          "execution_count": 9
        }
      ]
    },
    {
      "cell_type": "code",
      "metadata": {
        "colab": {
          "base_uri": "https://localhost:8080/",
          "height": 52
        },
        "id": "XL3Hlug747M_",
        "outputId": "9df75043-d9ea-4e58-a090-47f810ce3c22"
      },
      "source": [
        "#What does high-level programiing\n",
        "''' easy to read\n",
        "easy to code\n",
        "easy to understand\n",
        "with simpler syntax\n",
        "no need to remember structure or syntax.\n",
        "no need to manage memory.\n",
        "closer to end user.'''"
      ],
      "execution_count": null,
      "outputs": [
        {
          "output_type": "execute_result",
          "data": {
            "application/vnd.google.colaboratory.intrinsic+json": {
              "type": "string"
            },
            "text/plain": [
              "' easy to read\\neasy to code\\neasy to understand\\nwith simpler syntax\\nno need to remember structure or syntax.\\nno need to manage memory.\\ncloser to end user.'"
            ]
          },
          "metadata": {
            "tags": []
          },
          "execution_count": 10
        }
      ]
    },
    {
      "cell_type": "code",
      "metadata": {
        "colab": {
          "base_uri": "https://localhost:8080/",
          "height": 35
        },
        "id": "yL4Hhczi5uVu",
        "outputId": "5812b868-1ecc-4185-cd4d-e037c7f11641"
      },
      "source": [
        "#History\n",
        "''' Python was named after british comedy television show (monty python  flying circus)'''"
      ],
      "execution_count": null,
      "outputs": [
        {
          "output_type": "execute_result",
          "data": {
            "application/vnd.google.colaboratory.intrinsic+json": {
              "type": "string"
            },
            "text/plain": [
              "' Python was named after british comedy television show (monty python  flying circus)'"
            ]
          },
          "metadata": {
            "tags": []
          },
          "execution_count": 11
        }
      ]
    },
    {
      "cell_type": "code",
      "metadata": {
        "colab": {
          "base_uri": "https://localhost:8080/",
          "height": 35
        },
        "id": "k816Rn2559u8",
        "outputId": "9bd3ba7d-a886-40a7-b7ad-8d4a430db389"
      },
      "source": [
        "#Features of Python\n",
        "'''1 EASY\n",
        " SIMPLER\n",
        " OBJECT-ORIENTED\n",
        " SUPPORT HUGE LIBRARY \n",
        " PORABILITY\n",
        " FREE AND OPEN SOURCE\n",
        " INTERPRETED\n",
        " DYNAMIC TYPED'''"
      ],
      "execution_count": null,
      "outputs": [
        {
          "output_type": "execute_result",
          "data": {
            "application/vnd.google.colaboratory.intrinsic+json": {
              "type": "string"
            },
            "text/plain": [
              "'1 EASY\\n SIMPLER\\n OBJECT-ORIENTED\\n SUPPORT HUGE LIBRARY \\n PORABILITY\\n FREE AND OPEN SOURCE\\n INTERPRETED\\n DYNAMIC TYPED'"
            ]
          },
          "metadata": {
            "tags": []
          },
          "execution_count": 14
        }
      ]
    },
    {
      "cell_type": "code",
      "metadata": {
        "colab": {
          "base_uri": "https://localhost:8080/",
          "height": 35
        },
        "id": "Y91sjt3t6W3G",
        "outputId": "9f98a1d2-442b-4555-b220-a43cb7a100ca"
      },
      "source": [
        "#Componantes of python\n",
        "''' Functions\n",
        " packages\n",
        " classes\n",
        " modules'''"
      ],
      "execution_count": null,
      "outputs": [
        {
          "output_type": "execute_result",
          "data": {
            "application/vnd.google.colaboratory.intrinsic+json": {
              "type": "string"
            },
            "text/plain": [
              "' Functions\\n packages\\n classes\\n modules'"
            ]
          },
          "metadata": {
            "tags": []
          },
          "execution_count": 16
        }
      ]
    },
    {
      "cell_type": "code",
      "metadata": {
        "colab": {
          "base_uri": "https://localhost:8080/",
          "height": 52
        },
        "id": "epBbmJzA7Hir",
        "outputId": "29a99376-6768-4861-a6bb-d011c238c85c"
      },
      "source": [
        "#What is functions?\n",
        "''' collection of statement so you can reuse the code dont have to write again and again.\n",
        "function is collection of statement so you can reuse the code you dont have to write it again and again.'''"
      ],
      "execution_count": null,
      "outputs": [
        {
          "output_type": "execute_result",
          "data": {
            "application/vnd.google.colaboratory.intrinsic+json": {
              "type": "string"
            },
            "text/plain": [
              "' collection of statement so you can reuse the code dont have to write again and again.\\nfunction is collection of statement so you can reuse the code you dont have to write it again and again.'"
            ]
          },
          "metadata": {
            "tags": []
          },
          "execution_count": 17
        }
      ]
    },
    {
      "cell_type": "code",
      "metadata": {
        "colab": {
          "base_uri": "https://localhost:8080/",
          "height": 35
        },
        "id": "99ZALwvq55-9",
        "outputId": "052fb4e7-1498-4db1-9f6c-0fafaac8f530"
      },
      "source": [
        "#What is classes?\n",
        "''' this is abstract data types holds no value'''"
      ],
      "execution_count": null,
      "outputs": [
        {
          "output_type": "execute_result",
          "data": {
            "application/vnd.google.colaboratory.intrinsic+json": {
              "type": "string"
            },
            "text/plain": [
              "' this is abstract data types holds no value'"
            ]
          },
          "metadata": {
            "tags": []
          },
          "execution_count": 18
        }
      ]
    },
    {
      "cell_type": "code",
      "metadata": {
        "colab": {
          "base_uri": "https://localhost:8080/",
          "height": 35
        },
        "id": "KNFOH5bXTkCD",
        "outputId": "99a7bf59-a67f-4815-82a9-b34258165a6d"
      },
      "source": [
        "#what is modules?\n",
        "''' modules is a collection of classes related to function'''"
      ],
      "execution_count": null,
      "outputs": [
        {
          "output_type": "execute_result",
          "data": {
            "application/vnd.google.colaboratory.intrinsic+json": {
              "type": "string"
            },
            "text/plain": [
              "' modules is a collection of classes related to function'"
            ]
          },
          "metadata": {
            "tags": []
          },
          "execution_count": 19
        }
      ]
    },
    {
      "cell_type": "code",
      "metadata": {
        "colab": {
          "base_uri": "https://localhost:8080/",
          "height": 35
        },
        "id": "v37rfH0BUMpB",
        "outputId": "ea1a74e4-def3-43db-ae31-8dfe87884d69"
      },
      "source": [
        "#what is packages?\n",
        "''' packeges is collection of related modules'''"
      ],
      "execution_count": null,
      "outputs": [
        {
          "output_type": "execute_result",
          "data": {
            "application/vnd.google.colaboratory.intrinsic+json": {
              "type": "string"
            },
            "text/plain": [
              "' packeges is collection of related modules'"
            ]
          },
          "metadata": {
            "tags": []
          },
          "execution_count": 20
        }
      ]
    },
    {
      "cell_type": "code",
      "metadata": {
        "id": "D5F5V6_9P-5y"
      },
      "source": [
        "#functions: collection of satements so we can reuse the code dont have to write it again and again\n",
        "#classess ; absrtact data types which holdes no value\n",
        "#modules ; collection of classes related to function\n",
        "#packages ; collection of modules."
      ],
      "execution_count": null,
      "outputs": []
    },
    {
      "cell_type": "code",
      "metadata": {
        "colab": {
          "base_uri": "https://localhost:8080/",
          "height": 35
        },
        "id": "KgjksjSVQXPd",
        "outputId": "4d7d4557-77cc-4b74-a32b-e13fdcf1dca4"
      },
      "source": [
        "''' Django,\n",
        "flask,\n",
        "tornado,\n",
        "pyramid,\n",
        "web2py,\n",
        "bottle (FRAMEWORKS)'''"
      ],
      "execution_count": null,
      "outputs": [
        {
          "output_type": "execute_result",
          "data": {
            "application/vnd.google.colaboratory.intrinsic+json": {
              "type": "string"
            },
            "text/plain": [
              "' Django,\\nflask,\\ntornado,\\npyramid,\\nweb2py,\\nbottle (FRAMEWORKS)'"
            ]
          },
          "metadata": {
            "tags": []
          },
          "execution_count": 21
        }
      ]
    },
    {
      "cell_type": "code",
      "metadata": {
        "colab": {
          "base_uri": "https://localhost:8080/",
          "height": 35
        },
        "id": "_exR9mOQQ62u",
        "outputId": "744f092b-e504-46b2-d534-36dff2fba86f"
      },
      "source": [
        "'''#Django : 1) free and open-source\n",
        "2) Data base-drivan websites\n",
        "3) Dry principal (don't repeat yourself)\n",
        "4) Instagram'''"
      ],
      "execution_count": null,
      "outputs": [
        {
          "output_type": "execute_result",
          "data": {
            "application/vnd.google.colaboratory.intrinsic+json": {
              "type": "string"
            },
            "text/plain": [
              "\"#Django : 1) free and open-source\\n2) Data base-drivan websites\\n3) Dry principal (don't repeat yourself)\\n4) Instagram\""
            ]
          },
          "metadata": {
            "tags": []
          },
          "execution_count": 22
        }
      ]
    },
    {
      "cell_type": "code",
      "metadata": {
        "colab": {
          "base_uri": "https://localhost:8080/",
          "height": 35
        },
        "id": "ApNt4yO7tfiI",
        "outputId": "ebdb50a7-23f4-4d9e-be96-86cf76a1fcbd"
      },
      "source": [
        "''' Flask : web framework\n",
        "micro framework\n",
        "data base - drivan websites\n",
        "dry principal(don't repeat yourself)\n",
        "instagram and other app use it'''"
      ],
      "execution_count": null,
      "outputs": [
        {
          "output_type": "execute_result",
          "data": {
            "application/vnd.google.colaboratory.intrinsic+json": {
              "type": "string"
            },
            "text/plain": [
              "\" Flask : web framework\\nmicro framework\\ndata base - drivan websites\\ndry principal(don't repeat yourself)\\ninstagram and other app use it\""
            ]
          },
          "metadata": {
            "tags": []
          },
          "execution_count": 23
        }
      ]
    },
    {
      "cell_type": "code",
      "metadata": {
        "colab": {
          "base_uri": "https://localhost:8080/",
          "height": 35
        },
        "id": "-kuMuQgeElr6",
        "outputId": "d442f9fe-8930-4524-fc55-99cbcf94d943"
      },
      "source": [
        "'''Flask - web framework\n",
        "micro framework\n",
        "no data base abstration layer/ from validation\n",
        "extensions'''"
      ],
      "execution_count": null,
      "outputs": [
        {
          "output_type": "execute_result",
          "data": {
            "application/vnd.google.colaboratory.intrinsic+json": {
              "type": "string"
            },
            "text/plain": [
              "'Flask - web framework\\nmicro framework\\nno data base abstration layer/ from validation\\nextensions'"
            ]
          },
          "metadata": {
            "tags": []
          },
          "execution_count": 3
        }
      ]
    },
    {
      "cell_type": "code",
      "metadata": {
        "colab": {
          "base_uri": "https://localhost:8080/",
          "height": 35
        },
        "id": "SzfOYoVMFCOx",
        "outputId": "4e99e3cd-0884-4bfd-cb31-9d9c97c9d35a"
      },
      "source": [
        "'''bottle :- fast\n",
        " ligh - weight and simple\n",
        " micro framework'''"
      ],
      "execution_count": null,
      "outputs": [
        {
          "output_type": "execute_result",
          "data": {
            "application/vnd.google.colaboratory.intrinsic+json": {
              "type": "string"
            },
            "text/plain": [
              "'bottle :- fast\\nligh - weight and simple\\nmicro framework'"
            ]
          },
          "metadata": {
            "tags": []
          },
          "execution_count": 1
        }
      ]
    },
    {
      "cell_type": "code",
      "metadata": {
        "id": "9xJhkCRbF3zg"
      },
      "source": [
        "#Basic python Syntax\n",
        "'''\n",
        "line stucture\n",
        "multiline statement\n",
        "comments and docstring\n",
        "indentation\n",
        "quotation marks\n",
        "identifiers\n",
        "variables\n",
        "string formatters'''"
      ],
      "execution_count": null,
      "outputs": []
    },
    {
      "cell_type": "code",
      "metadata": {
        "colab": {
          "base_uri": "https://localhost:8080/"
        },
        "id": "u6ZppABuLLdV",
        "outputId": "2ed9445e-189e-48cd-a3c6-39c0b7e9c0d7"
      },
      "source": [
        "'''line structure:\n",
        "Python programing made of logical lines, each ending with a newline taken \n",
        "print('hi \n",
        "dipty)   , error :- syntax error EOL while scanning string litrals\n",
        "the interpreter also ignore blank space or lines'''\n",
        "\n",
        "if 2>1:\n",
        "  print('2 is more than 1')"
      ],
      "execution_count": null,
      "outputs": [
        {
          "output_type": "stream",
          "text": [
            "2 is more than 1\n"
          ],
          "name": "stdout"
        }
      ]
    },
    {
      "cell_type": "code",
      "metadata": {
        "colab": {
          "base_uri": "https://localhost:8080/"
        },
        "id": "CTn8iX1fM4T-",
        "outputId": "2b42bfbe-eb17-4b32-b8d2-98c5edbf6927"
      },
      "source": [
        "#Multiline structure\n",
        "print('a\\\n",
        "=\\\n",
        "10\\\n",
        ",n\\\n",
        "hi, hello')"
      ],
      "execution_count": null,
      "outputs": [
        {
          "output_type": "stream",
          "text": [
            "a=10,nhi, hello\n"
          ],
          "name": "stdout"
        }
      ]
    },
    {
      "cell_type": "code",
      "metadata": {
        "colab": {
          "base_uri": "https://localhost:8080/"
        },
        "id": "2UGV4n9VOFg2",
        "outputId": "e2d14e65-8f78-487c-9cce-6a24b48d876b"
      },
      "source": [
        "#use triple quotes\n",
        "print(\"\"\" hi,\n",
        "how are you\"\"\")\n",
        "print(\"hi\\\n",
        "=\\\n",
        "10\\\n",
        ",Dipty regar\\\n",
        ",how are you\")"
      ],
      "execution_count": null,
      "outputs": [
        {
          "output_type": "stream",
          "text": [
            " hi,\n",
            "how are you\n",
            "hi=10,Dipty regar,how are you\n"
          ],
          "name": "stdout"
        }
      ]
    },
    {
      "cell_type": "code",
      "metadata": {
        "colab": {
          "base_uri": "https://localhost:8080/"
        },
        "id": "91N4jXpoPR8H",
        "outputId": "6336ead3-0ae2-4f60-8aec-1dcbb1283d58"
      },
      "source": [
        "#directly use triple quotes\n",
        "print(\"\"\"Hi\n",
        "dipty, how are you\n",
        "You need to get a job,\n",
        "just dont foucs on family,\n",
        "you need package 35,000 monthly,\n",
        "so just focus on youself now baby,\n",
        "littile girl you are not alone and dont doubt youself,\n",
        "your parents dont give a shit about you so thts just fine ,\n",
        "focus on you dream\"\"\")"
      ],
      "execution_count": null,
      "outputs": [
        {
          "output_type": "stream",
          "text": [
            "Hi\n",
            "dipty, how are you\n",
            "You need to get a job,\n",
            "just dont foucs on family,\n",
            "you need package 35,000 monthly,\n",
            "so just focus on youself now baby,\n",
            "littile girl you are not alone and dont doubt youself,\n",
            "your parents dont give a shit about you so thts just fine ,\n",
            "focus on you dream\n"
          ],
          "name": "stdout"
        }
      ]
    },
    {
      "cell_type": "code",
      "metadata": {
        "id": "DY_Ha3EsQi11"
      },
      "source": [
        "#indentation:- its really important for in python actually necessary"
      ],
      "execution_count": null,
      "outputs": []
    },
    {
      "cell_type": "code",
      "metadata": {
        "colab": {
          "base_uri": "https://localhost:8080/",
          "height": 52
        },
        "id": "83G0ChVgRzp-",
        "outputId": "56f8d828-7a70-4ee0-8049-c8728a94f284"
      },
      "source": [
        "#comments and docstring\n",
        "#Single line comments\n",
        "#Multiline comments,      these are not valid in python berely valid which use triple quote\n",
        "\n",
        "'''documentation string explain code more than specificaly they are retained at runtime for the programme to inspect put it as a function first line\n",
        "definite with triple quote'''"
      ],
      "execution_count": null,
      "outputs": [
        {
          "output_type": "execute_result",
          "data": {
            "application/vnd.google.colaboratory.intrinsic+json": {
              "type": "string"
            },
            "text/plain": [
              "'documentation string explain code more than specificaly they are retained at runtime for the programme to inspect put it as a function first line\\ndefinite with triple quote'"
            ]
          },
          "metadata": {
            "tags": []
          },
          "execution_count": 46
        }
      ]
    },
    {
      "cell_type": "code",
      "metadata": {
        "colab": {
          "base_uri": "https://localhost:8080/",
          "height": 52
        },
        "id": "twJMjE2SS9pG",
        "outputId": "25aa0d9c-e909-4bf9-d536-d8a7f7a0c2bb"
      },
      "source": [
        "''' Identifiers :-  its uniques names\\identity to identifies functions, variables , classes, module and so on.'''\n",
        "''' there are certain rules to follow identifers\n",
        "which starts with a-z, A-Z, or an underscore\n",
        "cant be start with 0-9\n",
        "can start with underscore more than one \n",
        "it is case sensitive\n",
        "python is case- sensitive.\n",
        "some of the restricted keywords may not be used as identifers'''"
      ],
      "execution_count": null,
      "outputs": [
        {
          "output_type": "execute_result",
          "data": {
            "application/vnd.google.colaboratory.intrinsic+json": {
              "type": "string"
            },
            "text/plain": [
              "' there are certain rules to follow identifers\\nwhich starts with a-z, A-Z, or an underscore\\ncant be start with 0-9\\ncan start with underscore more than one \\nit is case sensitive\\npython is case- sensitive.\\nsome of the restricted keywords may not be used as identifers'"
            ]
          },
          "metadata": {
            "tags": []
          },
          "execution_count": 49
        }
      ]
    },
    {
      "cell_type": "code",
      "metadata": {
        "colab": {
          "base_uri": "https://localhost:8080/",
          "height": 69
        },
        "id": "sCBRycO0VFSY",
        "outputId": "fe4a85fd-10ab-4c4a-8309-bc92c5108f03"
      },
      "source": [
        "#what are the restricted keywords?\n",
        "''' restricted keyword which are already define to translate some specific terms in python, you cant use as identifiers called \n",
        "restricted key word.\n",
        "35 are there (yes, no, true, false, if , else, isnot, del,def, in, or, try, assert, elif, for, is, pass, while,\n",
        "break, return, global, expact, none, raise, yeild, continue, if , for ,not, as and so on.)'''"
      ],
      "execution_count": null,
      "outputs": [
        {
          "output_type": "execute_result",
          "data": {
            "application/vnd.google.colaboratory.intrinsic+json": {
              "type": "string"
            },
            "text/plain": [
              "' restricted keyword which are already define to translate some specific terms in python, you cant use as identifiers called \\nrestricted key word.\\n35 are there (yes, no, true, false, if , else, isnot, del,def, in, or, try, assert, elif, for, is, pass, while,\\nbreak, return, global, expact, none, raise, yeild, continue, if , for ,not, as and so on.)'"
            ]
          },
          "metadata": {
            "tags": []
          },
          "execution_count": 1
        }
      ]
    },
    {
      "cell_type": "code",
      "metadata": {
        "colab": {
          "base_uri": "https://localhost:8080/",
          "height": 163
        },
        "id": "J_xpE7MIDstr",
        "outputId": "21f05940-fd2d-4514-a2d5-2b3deae15145"
      },
      "source": [
        "print(keyword.kwlist)"
      ],
      "execution_count": null,
      "outputs": [
        {
          "output_type": "error",
          "ename": "NameError",
          "evalue": "ignored",
          "traceback": [
            "\u001b[0;31m---------------------------------------------------------------------------\u001b[0m",
            "\u001b[0;31mNameError\u001b[0m                                 Traceback (most recent call last)",
            "\u001b[0;32m<ipython-input-3-e95b2ef98bdd>\u001b[0m in \u001b[0;36m<module>\u001b[0;34m()\u001b[0m\n\u001b[0;32m----> 1\u001b[0;31m \u001b[0mprint\u001b[0m\u001b[0;34m(\u001b[0m\u001b[0mkeyword\u001b[0m\u001b[0;34m.\u001b[0m\u001b[0mkwlist\u001b[0m\u001b[0;34m)\u001b[0m\u001b[0;34m\u001b[0m\u001b[0;34m\u001b[0m\u001b[0m\n\u001b[0m",
            "\u001b[0;31mNameError\u001b[0m: name 'keyword' is not defined"
          ]
        }
      ]
    },
    {
      "cell_type": "code",
      "metadata": {
        "colab": {
          "base_uri": "https://localhost:8080/"
        },
        "id": "D3lNCorvEhY0",
        "outputId": "1b0438c6-0f77-47b0-c857-671b79040b1e"
      },
      "source": [
        "#variables:-\n",
        "'''there is no term to declare a variable in python, in python variables are created the momoent we assign the value to it.'''\n",
        "x = 10\n",
        "printer =\"HP\"\n",
        "print('just printed x, pages to the printer')"
      ],
      "execution_count": null,
      "outputs": [
        {
          "output_type": "stream",
          "text": [
            "just printed x, pages to the printer\n"
          ],
          "name": "stdout"
        }
      ]
    },
    {
      "cell_type": "code",
      "metadata": {
        "colab": {
          "base_uri": "https://localhost:8080/"
        },
        "id": "WNyI7YRXT-tY",
        "outputId": "a47f0bcf-0cdb-45e9-d095-2b348a79b094"
      },
      "source": [
        "\n",
        "x = 10\n",
        "printer = 'hp'\n",
        "print('i just printed {0},pages to the printer {1}'.format(x,printer)) "
      ],
      "execution_count": null,
      "outputs": [
        {
          "output_type": "stream",
          "text": [
            "i just printed 10,pages to the printer hp\n"
          ],
          "name": "stdout"
        }
      ]
    },
    {
      "cell_type": "code",
      "metadata": {
        "colab": {
          "base_uri": "https://localhost:8080/"
        },
        "id": "3Oi8sGjQcE3l",
        "outputId": "2bb8f6a0-35ee-4d91-cb56-5a6758666a88"
      },
      "source": [
        "#string methods\n",
        "#formate case\n",
        "x = 20\n",
        "printer = 'hp'\n",
        "print('i just printed {0}, pages to printer {1}'.format( x, printer)) # tuple of 2 (0,1)\n",
        "\n",
        "#f-strings\n",
        "print(f\"i just printed {x},pages to the printer {printer}\")"
      ],
      "execution_count": null,
      "outputs": [
        {
          "output_type": "stream",
          "text": [
            "i just printed 20, pages to printer hp\n",
            "i just printed 20,pages to the printer hp\n"
          ],
          "name": "stdout"
        }
      ]
    },
    {
      "cell_type": "code",
      "metadata": {
        "colab": {
          "base_uri": "https://localhost:8080/",
          "height": 35
        },
        "id": "k_SUMhcNeIuT",
        "outputId": "6c05b112-7073-4383-9d91-48e5d372e8d3"
      },
      "source": [
        "#Docstring\n",
        "''' Documentation string.\n",
        "first statement in module, functions, classes, method explains what it does.'''\n",
        "\n",
        "def add(a,b):\n",
        "  \"\"\" this adds parameter a and b\n",
        "  \"\"\"\n",
        "  return a+b\n",
        "add.__doc__"
      ],
      "execution_count": null,
      "outputs": [
        {
          "output_type": "execute_result",
          "data": {
            "application/vnd.google.colaboratory.intrinsic+json": {
              "type": "string"
            },
            "text/plain": [
              "' this adds parameter a and b\\n  '"
            ]
          },
          "metadata": {
            "tags": []
          },
          "execution_count": 3
        }
      ]
    },
    {
      "cell_type": "code",
      "metadata": {
        "id": "ZuMK0LancAAA"
      },
      "source": [
        "from zipfile import ZipFile\n",
        "file_name = 'Getting Started with Python.zip'\n",
        "with ZipFile (file_name,'r') as zip:\n",
        "  zip.extractall()\n",
        "  print('done')"
      ],
      "execution_count": null,
      "outputs": []
    },
    {
      "cell_type": "code",
      "metadata": {
        "id": "ZpUGzt4zyFAj",
        "colab": {
          "base_uri": "https://localhost:8080/"
        },
        "outputId": "39468213-d146-4345-f7c2-7ac17a3302cb"
      },
      "source": [
        "''' questions : -  Area of triangle  __ write a function that takes from the user the length of the base and the height of a triagnle,\n",
        "make the function output the resulting area of triangle as integer'''\n",
        "\n",
        "def triangle(base, height): \n",
        "  return (base*height*0.5)\n",
        "triangle(2,10)"
      ],
      "execution_count": null,
      "outputs": [
        {
          "output_type": "execute_result",
          "data": {
            "text/plain": [
              "10.0"
            ]
          },
          "metadata": {
            "tags": []
          },
          "execution_count": 3
        }
      ]
    },
    {
      "cell_type": "markdown",
      "metadata": {
        "id": "Lk9SvKYf5gK-"
      },
      "source": [
        "**HOW TO CONVERT A FLOAT INTO INTEGER OR AN INTEGER INTO FLOAT**"
      ]
    },
    {
      "cell_type": "code",
      "metadata": {
        "colab": {
          "base_uri": "https://localhost:8080/"
        },
        "id": "wntdtnWO502q",
        "outputId": "a9dc680b-cb39-44a7-81a1-8a7fc02edf4c"
      },
      "source": [
        "'''AREA OF TRIANGLE __ WRITE A FUNCTION THAT TAKES FROM THE USERS, THE LENGTH OF THE BASE AND THE HEIGHT . MAKE THE FUNCTION OUTPUT THE \n",
        "RESULTING AREA OF TRIANGLE AS AN INTEGER'''\n",
        "def triangle(base,height): # Area of triangle is = 1\\2 x base x height\n",
        "  return(base*height*0.5)\n",
        "\n",
        "triangle(10,10) #'''QUERRY __  HOW TO CONVERT FLOAT INTO INEGER'''\n",
        "#triangle(2, 8) # function can be call once only."
      ],
      "execution_count": null,
      "outputs": [
        {
          "output_type": "execute_result",
          "data": {
            "text/plain": [
              "50.0"
            ]
          },
          "metadata": {
            "tags": []
          },
          "execution_count": 6
        }
      ]
    },
    {
      "cell_type": "code",
      "metadata": {
        "id": "xkmvImGQa3vZ"
      },
      "source": [
        "'''fibonacci series__  write a function that takes from the user the number to print and prints the fibonacci series upto that length'''\n",
        "#def fibonacci(n):\n",
        "  #a,b,count = 0,1,0\n",
        "  #while(count>length):\n",
        "    #print('a, end '='')\n",
        "    #count+=1\n",
        "    #a,b = b, a+b\n",
        "    #print('-----')o\n",
        "\n",
        "\n",
        "\n",
        "\n",
        "def fibonacci(n):\n",
        "  a, b, count = 0, 10, 0\n",
        "  while (count>length):\n",
        "    print(a, end= \"-\")\n",
        "    count =+1\n",
        "    a,b = b, a+b\n",
        "    print('the fibonacci numbers are the numbers in the following integer sequence')\n"
      ],
      "execution_count": null,
      "outputs": []
    },
    {
      "cell_type": "code",
      "metadata": {
        "id": "xM6cEqMph4Km"
      },
      "source": [
        "''' integer come in all sizes "
      ],
      "execution_count": null,
      "outputs": []
    }
  ]
}